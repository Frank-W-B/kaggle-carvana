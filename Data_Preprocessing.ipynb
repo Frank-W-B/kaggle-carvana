{
 "cells": [
  {
   "cell_type": "markdown",
   "metadata": {},
   "source": [
    "### Process the images in preparation for training or prediction\n",
    "F. Burkholder 26 Sept. 2017"
   ]
  },
  {
   "cell_type": "code",
   "execution_count": 1,
   "metadata": {
    "collapsed": true
   },
   "outputs": [],
   "source": [
    "import numpy as np\n",
    "from skimage import io\n",
    "from matplotlib import pyplot as plt\n",
    "%matplotlib inline"
   ]
  },
  {
   "cell_type": "code",
   "execution_count": 2,
   "metadata": {
    "collapsed": true
   },
   "outputs": [],
   "source": [
    "def get_car_ids(txtfile):\n",
    "    ids = np.loadtxt(txtfile, dtype='string_')\n",
    "    \n",
    "    # change byte literals to strings\n",
    "    def to_str(x):\n",
    "        return x.decode('UTF-8')\n",
    "    to_str = np.vectorize(to_str)\n",
    "    \n",
    "    return to_str(ids)"
   ]
  },
  {
   "cell_type": "code",
   "execution_count": 3,
   "metadata": {},
   "outputs": [
    {
     "name": "stdout",
     "output_type": "stream",
     "text": [
      "There are 254 cars in ids_train.txt.\n",
      "The first five cars are ['78f63d808555' 'd46244bc42ed' '3c6acfceb552' '78bfb9c780db' '82f72273d23e']\n"
     ]
    }
   ],
   "source": [
    "fname = 'ids_train.txt'\n",
    "ids = get_car_ids(fname)\n",
    "print(\"There are {0} cars in {1}.\".format(ids.shape[0], fname))\n",
    "print(\"The first five cars are {0}\".format(ids[:5]))"
   ]
  },
  {
   "cell_type": "code",
   "execution_count": 4,
   "metadata": {
    "collapsed": true
   },
   "outputs": [],
   "source": [
    "def get_img_fnames_for_car_id(car_id, folder, ext):\n",
    "    views = ['_0'+ str(num) for num in range(1,10)]\n",
    "    views.extend(['_' + str(num) for num in range(10, 17)])\n",
    "    img_fnames = [folder + car_id + view + ext for view in views]\n",
    "    return img_fnames"
   ]
  },
  {
   "cell_type": "code",
   "execution_count": 5,
   "metadata": {
    "collapsed": true
   },
   "outputs": [],
   "source": [
    "car_id = ids[10]\n",
    "folder = 'train/'\n",
    "ext = '.jpg'\n",
    "car_fname_imgs = get_img_fnames_for_car_id(car_id, folder, ext)\n",
    "folder = 'train_masks/'\n",
    "ext = '_mask.gif'\n",
    "car_fname_masks = get_img_fnames_for_car_id(car_id, folder, ext)"
   ]
  },
  {
   "cell_type": "code",
   "execution_count": 6,
   "metadata": {},
   "outputs": [
    {
     "data": {
      "text/plain": [
       "'jpg'"
      ]
     },
     "execution_count": 6,
     "metadata": {},
     "output_type": "execute_result"
    }
   ],
   "source": [
    "fname = car_fname_imgs[0]\n",
    "img = io.imread(fname)\n",
    "fname.split('.')[1]"
   ]
  },
  {
   "cell_type": "code",
   "execution_count": 7,
   "metadata": {
    "collapsed": true
   },
   "outputs": [],
   "source": [
    "def get_cropped_imgs_from_fname(fname, crop_row, crop_col, crop_win):\n",
    "    img_full = io.imread(fname)\n",
    "    ht = img_full.shape[0]\n",
    "    wd = img_full.shape[1]\n",
    "    if fname.split('.')[1] == 'gif':\n",
    "        is_mask = True\n",
    "        img = img_full[crop_row:ht - crop_row, crop_col:wd - crop_col]\n",
    "    else:\n",
    "        is_mask = False\n",
    "        img = img_full[crop_row:ht - crop_row, crop_col:wd - crop_col, :]\n",
    "\n",
    "    ht_c = img.shape[0]\n",
    "    wd_c = img.shape[1]\n",
    "    num_row = ht_c / crop_win\n",
    "    assert (num_row==5), 'Image incorrect size' # was 6 for 212\n",
    "    num_col = wd_c / crop_win\n",
    "    assert (num_col==7), 'Image incorrect size' # was 9 for 212\n",
    "    num_cimgs = int(num_row * num_col)\n",
    "\n",
    "    if is_mask:\n",
    "        cimgs = np.zeros((num_cimgs, crop_win, crop_win), dtype = 'uint8')\n",
    "    else:\n",
    "        cimgs = np.zeros((num_cimgs, crop_win, crop_win, img.shape[2]), dtype = 'uint8')\n",
    "\n",
    "    for i in range(num_cimgs):\n",
    "        r = int(i // num_col)\n",
    "        c = int(i - r * num_col)\n",
    "        rl = int(r * crop_win)\n",
    "        ru = int(rl + crop_win)\n",
    "        cl = int(c * crop_win)\n",
    "        cu = int(cl + crop_win)\n",
    "        if is_mask:\n",
    "            cimgs[i] = img[rl:ru, cl:cu]\n",
    "        else:\n",
    "            cimgs[i] = img[rl:ru, cl:cu, :]\n",
    "    return cimgs"
   ]
  },
  {
   "cell_type": "code",
   "execution_count": 8,
   "metadata": {},
   "outputs": [
    {
     "name": "stdout",
     "output_type": "stream",
     "text": [
      "Image array shapes (35, 256, 256, 3)\n",
      "Mask array shapes (35, 256, 256)\n"
     ]
    }
   ],
   "source": [
    "car_index = 0 # 0 to 253\n",
    "fname_img = car_fname_imgs[car_index]\n",
    "fname_mask = car_fname_masks[car_index]\n",
    "crop_row = 0 # was 4 for 212\n",
    "crop_col = 63 # was 5 for 212\n",
    "crop_win = 256 # was 212\n",
    "cropped_imgs = get_cropped_imgs_from_fname(fname_img, crop_row, crop_col, crop_win)\n",
    "cropped_masks = get_cropped_imgs_from_fname(fname_mask, crop_row, crop_col, crop_win)\n",
    "print(\"Image array shapes {0}\".format(cropped_imgs.shape))\n",
    "print(\"Mask array shapes {0}\".format(cropped_masks.shape))"
   ]
  },
  {
   "cell_type": "code",
   "execution_count": 9,
   "metadata": {},
   "outputs": [
    {
     "data": {
      "text/plain": [
       "<matplotlib.image.AxesImage at 0x7f48927ee080>"
      ]
     },
     "execution_count": 9,
     "metadata": {},
     "output_type": "execute_result"
    },
    {
     "data": {
      "image/png": "[encoded data removed]",
      "text/plain": [
       "<matplotlib.figure.Figure at 0x7f48652ea0f0>"
      ]
     },
     "metadata": {},
     "output_type": "display_data"
    }
   ],
   "source": [
    "i = 16\n",
    "io.imshow(cropped_imgs[i])"
   ]
  },
  {
   "cell_type": "code",
   "execution_count": 10,
   "metadata": {},
   "outputs": [
    {
     "data": {
      "text/plain": [
       "<matplotlib.image.AxesImage at 0x7f4864f92cc0>"
      ]
     },
     "execution_count": 10,
     "metadata": {},
     "output_type": "execute_result"
    },
    {
     "data": {
      "image/png": "[encoded data removed]",
      "text/plain": [
       "<matplotlib.figure.Figure at 0x7f48927a5198>"
      ]
     },
     "metadata": {},
     "output_type": "display_data"
    }
   ],
   "source": [
    "i = 16\n",
    "plt.imshow(cropped_masks[i], vmin=0, vmax=255, cmap='gray')"
   ]
  },
  {
   "cell_type": "code",
   "execution_count": 11,
   "metadata": {
    "collapsed": true
   },
   "outputs": [],
   "source": [
    "def make_1_channel_into_3_channel_img(img_1_chan):\n",
    "    img_3_channel = np.zeros((img_1_chan.shape[0], img_1_chan.shape[1], 3), dtype = 'uint8')\n",
    "    img_3_channel[:,:,0] = img_1_chan\n",
    "    img_3_channel[:,:,1] = img_1_chan\n",
    "    img_3_channel[:,:,2] = img_1_chan\n",
    "    return img_3_channel"
   ]
  },
  {
   "cell_type": "code",
   "execution_count": 12,
   "metadata": {},
   "outputs": [
    {
     "data": {
      "text/plain": [
       "<matplotlib.image.AxesImage at 0x7f4864eb8588>"
      ]
     },
     "execution_count": 12,
     "metadata": {},
     "output_type": "execute_result"
    },
    {
     "data": {
      "image/png": "[encoded data removed]",
      "text/plain": [
       "<matplotlib.figure.Figure at 0x7f4864fda550>"
      ]
     },
     "metadata": {},
     "output_type": "display_data"
    }
   ],
   "source": [
    "i = 16\n",
    "mask_3_channel = make_1_channel_into_3_channel_img(cropped_masks[i])\n",
    "io.imshow(mask_3_channel)"
   ]
  },
  {
   "cell_type": "code",
   "execution_count": 57,
   "metadata": {
    "collapsed": true
   },
   "outputs": [],
   "source": [
    "def stich_two_imgs_together(img1, img2):\n",
    "    assert (img1.shape[0] == img2.shape[0]), 'Images are not the same height'\n",
    "    lw_bk = 2\n",
    "    lw_wt = 20\n",
    "    vline_bk = np.zeros((img1.shape[0], lw_bk, img1.shape[2]), dtype = 'uint8')\n",
    "    vline_wt = np.ones((img1.shape[0], lw_wt, img1.shape[2]), dtype = 'uint8') * 255\n",
    "    img = np.hstack((img1, vline_bk))\n",
    "    img = np.hstack((img, vline_wt))\n",
    "    img = np.hstack((img, vline_bk))\n",
    "    img = np.hstack((img, img2))\n",
    "    return img"
   ]
  },
  {
   "cell_type": "code",
   "execution_count": 50,
   "metadata": {},
   "outputs": [
    {
     "data": {
      "image/png": "[encoded data removed]",
      "text/plain": [
       "<matplotlib.figure.Figure at 0x7f48648fcd68>"
      ]
     },
     "metadata": {},
     "output_type": "display_data"
    }
   ],
   "source": [
    "i = 18\n",
    "mask_3_chan = make_1_channel_into_3_channel_img(cropped_masks[i])\n",
    "stiched = stich_two_imgs_together(cropped_imgs[i], mask_3_chan)\n",
    "io.imshow(stiched)\n",
    "plt.xticks([])\n",
    "plt.yticks([])\n",
    "plt.savefig(car_id + \"_\" + str(i) + '_.png' )"
   ]
  },
  {
   "cell_type": "code",
   "execution_count": 27,
   "metadata": {},
   "outputs": [
    {
     "data": {
      "text/plain": [
       "'0ee135a3cccc'"
      ]
     },
     "execution_count": 27,
     "metadata": {},
     "output_type": "execute_result"
    }
   ],
   "source": [
    "car_id"
   ]
  },
  {
   "cell_type": "code",
   "execution_count": 52,
   "metadata": {},
   "outputs": [
    {
     "name": "stdout",
     "output_type": "stream",
     "text": [
      "The train windows are [18].\n",
      "The test windows are [16]\n"
     ]
    }
   ],
   "source": [
    "all_wins_set = set([18])\n",
    "test_wins_set = set([16])\n",
    "train_wins = sorted(list(all_wins_set - test_wins_set))\n",
    "test_wins = sorted(list(test_wins_set))\n",
    "print(\"The train windows are {0}.\".format(train_wins))\n",
    "print(\"The test windows are {0}\".format(test_wins))"
   ]
  },
  {
   "cell_type": "code",
   "execution_count": 53,
   "metadata": {},
   "outputs": [],
   "source": [
    "def make_labels(y, img_h, img_w, n_labels):\n",
    "    ''' makes a column for each label in y'''\n",
    "    def make_label_img(labels, img_h, img_w, n_labels):\n",
    "        label_map = np.zeros([img_h, img_w, n_labels])    \n",
    "        for r in range(img_h):\n",
    "            for c in range(img_w):\n",
    "                label_map[r, c, labels[r][c]] = 1\n",
    "        return label_map\n",
    "\n",
    "    labels_lst = []\n",
    "    m = y.shape[0]\n",
    "    for lbl in y:\n",
    "        lbl_clp = np.clip(lbl, 0, 1)\n",
    "        lbl_chans = make_label_img(lbl_clp, img_h, img_w, n_labels)\n",
    "        labels_lst.append(lbl_chans)\n",
    "    labels = np.array(labels_lst).reshape((m, img_h * img_w, n_labels))\n",
    "    return labels"
   ]
  },
  {
   "cell_type": "code",
   "execution_count": 55,
   "metadata": {},
   "outputs": [
    {
     "name": "stdout",
     "output_type": "stream",
     "text": [
      "(1, 3, 256, 256)\n",
      "(3, 256, 256)\n",
      "(1, 256, 256)\n",
      "(256, 256)\n",
      "(1, 65536, 2)\n"
     ]
    }
   ],
   "source": [
    "# make the train set\n",
    "win = train_wins\n",
    "m = len(win)\n",
    "data_arr = np.zeros((m, 3, crop_win, crop_win), dtype='uint8')\n",
    "label_arr = np.zeros((m, crop_win, crop_win), dtype='uint8')\n",
    "for i in range(m):\n",
    "    data_arr[i] = cropped_imgs[win[i]].reshape((3, crop_win, crop_win))\n",
    "    label_arr[i] = cropped_masks[win[i]]\n",
    "\n",
    "print(data_arr.shape)\n",
    "print(data_arr[0].shape)\n",
    "print(label_arr.shape)\n",
    "print(label_arr[0].shape)\n",
    "\n",
    "n_labels = 2 # 2 classes - car or not\n",
    "labels = make_labels(label_arr, crop_win, crop_win, n_labels)\n",
    "print(labels.shape)\n",
    "\n",
    "np.save('temp/X_train.npy', data_arr)\n",
    "np.save('temp/y_train.npy', labels)"
   ]
  },
  {
   "cell_type": "code",
   "execution_count": 60,
   "metadata": {},
   "outputs": [
    {
     "name": "stdout",
     "output_type": "stream",
     "text": [
      "(8, 3, 256, 256)\n",
      "(3, 256, 256)\n",
      "(8, 256, 256)\n",
      "(256, 256)\n",
      "(8, 65536, 2)\n"
     ]
    }
   ],
   "source": [
    "# use this t0 make 8 versions of the train set\n",
    "win = train_wins\n",
    "m = len(win) * 8\n",
    "data_arr = np.zeros((m, 3, crop_win, crop_win), dtype='uint8')\n",
    "label_arr = np.zeros((m, crop_win, crop_win), dtype='uint8')\n",
    "\n",
    "# images\n",
    "imgs = []\n",
    "base = cropped_imgs[win[0]]\n",
    "imgs.append(base)\n",
    "r1 = np.rot90(base, k=1)\n",
    "imgs.append(r1)\n",
    "r2 = np.rot90(base, k=2)\n",
    "imgs.append(r2)\n",
    "r3 = np.rot90(base, k=3)\n",
    "imgs.append(r3)\n",
    "f = np.fliplr(base)\n",
    "imgs.append(f)\n",
    "fr1 = np.rot90(f, k=1)\n",
    "imgs.append(fr1)\n",
    "fr2 = np.rot90(f, k=2)\n",
    "imgs.append(fr2)\n",
    "fr3 = np.rot90(f, k=3)\n",
    "imgs.append(fr3)\n",
    "\n",
    "# masks\n",
    "masks = []\n",
    "base_m = cropped_masks[win[0]]\n",
    "masks.append(base_m)\n",
    "r1_m = np.rot90(base_m, k=1)\n",
    "masks.append(r1_m)\n",
    "r2_m = np.rot90(base_m, k=2)\n",
    "masks.append(r2_m)\n",
    "r3_m = np.rot90(base_m, k=3)\n",
    "masks.append(r3_m)\n",
    "f_m = np.fliplr(base_m)\n",
    "masks.append(f_m)\n",
    "fr1_m = np.rot90(f_m, k=1)\n",
    "masks.append(fr1_m)\n",
    "fr2_m = np.rot90(f_m, k=2)\n",
    "masks.append(fr2_m)\n",
    "fr3_m = np.rot90(f_m, k=3)\n",
    "masks.append(fr3_m)\n",
    "\n",
    "for i in range(m):\n",
    "    data_arr[i] = imgs[i].reshape((3, crop_win, crop_win))\n",
    "    label_arr[i] = masks[i]\n",
    "\n",
    "print(data_arr.shape)\n",
    "print(data_arr[0].shape)\n",
    "print(label_arr.shape)\n",
    "print(label_arr[0].shape)\n",
    "\n",
    "n_labels = 2 # 2 classes - car or not\n",
    "labels = make_labels(label_arr, crop_win, crop_win, n_labels)\n",
    "print(labels.shape)\n",
    "\n",
    "np.save('temp/X_train.npy', data_arr)\n",
    "np.save('temp/y_train.npy', labels)"
   ]
  },
  {
   "cell_type": "code",
   "execution_count": 61,
   "metadata": {},
   "outputs": [
    {
     "name": "stdout",
     "output_type": "stream",
     "text": [
      "(1, 3, 256, 256)\n",
      "(3, 256, 256)\n",
      "(1, 256, 256)\n",
      "(256, 256)\n",
      "(1, 65536, 2)\n"
     ]
    }
   ],
   "source": [
    "# make the test set\n",
    "win = test_wins\n",
    "m = len(win)\n",
    "data_arr = np.zeros((m, 3, crop_win, crop_win), dtype='uint8')\n",
    "label_arr = np.zeros((m, crop_win, crop_win), dtype='uint8')\n",
    "for i in range(m):\n",
    "    data_arr[i] = cropped_imgs[win[i]].reshape((3, crop_win, crop_win))\n",
    "    label_arr[i] = cropped_masks[win[i]]\n",
    "\n",
    "print(data_arr.shape)\n",
    "print(data_arr[0].shape)\n",
    "print(label_arr.shape)\n",
    "print(label_arr[0].shape)\n",
    "\n",
    "n_labels = 2 # 2 classes - car or not\n",
    "labels = make_labels(label_arr, crop_win, crop_win, n_labels)\n",
    "print(labels.shape)\n",
    "\n",
    "np.save('temp/X_test.npy', data_arr)\n",
    "np.save('temp/y_test.npy', labels)"
   ]
  },
  {
   "cell_type": "code",
   "execution_count": 80,
   "metadata": {},
   "outputs": [
    {
     "data": {
      "image/png": "[encoded data removed]",
      "text/plain": [
       "<matplotlib.figure.Figure at 0x7f4864c6eda0>"
      ]
     },
     "metadata": {},
     "output_type": "display_data"
    }
   ],
   "source": [
    "plt.imshow(masks[7], vmin=0, vmax=255, cmap='gray')\n",
    "#plt.imshow(imgs[7]);\n",
    "plt.xticks([])\n",
    "plt.yticks([]);"
   ]
  },
  {
   "cell_type": "code",
   "execution_count": null,
   "metadata": {
    "collapsed": true
   },
   "outputs": [],
   "source": []
  }
 ],
 "metadata": {
  "kernelspec": {
   "display_name": "Python 3",
   "language": "python",
   "name": "python3"
  },
  "language_info": {
   "codemirror_mode": {
    "name": "ipython",
    "version": 3
   },
   "file_extension": ".py",
   "mimetype": "text/x-python",
   "name": "python",
   "nbconvert_exporter": "python",
   "pygments_lexer": "ipython3",
   "version": "3.6.0"
  }
 },
 "nbformat": 4,
 "nbformat_minor": 2
}
